{
 "cells": [
  {
   "cell_type": "markdown",
   "metadata": {},
   "source": [
    "# Preparing VM"
   ]
  },
  {
   "cell_type": "code",
   "execution_count": 13,
   "metadata": {},
   "outputs": [
    {
     "name": "stdout",
     "output_type": "stream",
     "text": [
      "Mon Jun 24 11:18:43 2024       \n",
      "+-----------------------------------------------------------------------------+\n",
      "| NVIDIA-SMI 525.147.05   Driver Version: 525.147.05   CUDA Version: 12.0     |\n",
      "|-------------------------------+----------------------+----------------------+\n",
      "| GPU  Name        Persistence-M| Bus-Id        Disp.A | Volatile Uncorr. ECC |\n",
      "| Fan  Temp  Perf  Pwr:Usage/Cap|         Memory-Usage | GPU-Util  Compute M. |\n",
      "|                               |                      |               MIG M. |\n",
      "|===============================+======================+======================|\n",
      "|   0  NVIDIA A100-PCI...  Off  | 00000000:3D:00.0 Off |                    0 |\n",
      "| N/A   35C    P0    34W / 250W |  23297MiB / 40960MiB |      0%      Default |\n",
      "|                               |                      |             Disabled |\n",
      "+-------------------------------+----------------------+----------------------+\n",
      "|   1  NVIDIA A100-PCI...  Off  | 00000000:3E:00.0 Off |                    0 |\n",
      "| N/A   35C    P0    35W / 250W |  28311MiB / 40960MiB |      0%      Default |\n",
      "|                               |                      |             Disabled |\n",
      "+-------------------------------+----------------------+----------------------+\n",
      "                                                                               \n",
      "+-----------------------------------------------------------------------------+\n",
      "| Processes:                                                                  |\n",
      "|  GPU   GI   CI        PID   Type   Process name                  GPU Memory |\n",
      "|        ID   ID                                                   Usage      |\n",
      "|=============================================================================|\n",
      "+-----------------------------------------------------------------------------+\n"
     ]
    }
   ],
   "source": [
    "gpu_info = !nvidia-smi\n",
    "gpu_info = '\\n'.join(gpu_info)\n",
    "if gpu_info.find('failed') >= 0:\n",
    "  print('Not connected to a GPU')\n",
    "else:\n",
    "  print(gpu_info)"
   ]
  },
  {
   "cell_type": "markdown",
   "metadata": {},
   "source": [
    "# Build service llm"
   ]
  },
  {
   "cell_type": "code",
   "execution_count": null,
   "metadata": {},
   "outputs": [],
   "source": [
    "# ! git clone https://github.com/ggerganov/llama.cpp.git\n",
    "# % cd llama.cpp\n",
    "# ! make\n",
    "# # ! wget https://huggingface.co/openthaigpt/openthaigpt-1.0.0-7b-chat/resolve/main/openthaigpt-Q4_K_M.gguf\n",
    "# ! ls /opt/data/NLP/llama-index/RAG-for-SuperAI/models/openthaigpt-Q4_K_M.gguf\n",
    "# ! ./llama-server -m /opt/data/NLP/llama-index/RAG-for-SuperAI/models/openthaigpt-Q4_K_M.gguf -c 1000 --host 0.0.0.0 -ngl 80 --port 8080 -np 2"
   ]
  },
  {
   "cell_type": "markdown",
   "metadata": {},
   "source": [
    "# Retrieval"
   ]
  },
  {
   "cell_type": "code",
   "execution_count": 1,
   "metadata": {},
   "outputs": [],
   "source": [
    "from llama_index.embeddings.huggingface import HuggingFaceEmbedding\n",
    "embedding_model_name = '../models/bge-m3'\n",
    "# embedding_model_name = 'kornwtp/simcse-model-phayathaibert'\n",
    "embed_model = HuggingFaceEmbedding(model_name=embedding_model_name,max_length=1024, device='cpu')"
   ]
  },
  {
   "cell_type": "code",
   "execution_count": 2,
   "metadata": {},
   "outputs": [],
   "source": [
    "from llama_index.core import SimpleDirectoryReader, VectorStoreIndex\n",
    "from llama_index.llms.llama_cpp import LlamaCPP\n",
    "from llama_index.llms.llama_cpp.llama_utils import (\n",
    "    messages_to_prompt,\n",
    "    completion_to_prompt,\n",
    ")"
   ]
  },
  {
   "cell_type": "code",
   "execution_count": 27,
   "metadata": {},
   "outputs": [
    {
     "name": "stderr",
     "output_type": "stream",
     "text": [
      "llama_model_loader: loaded meta data with 23 key-value pairs and 291 tensors from ../models/openthaigpt-Q4_K_M.gguf (version GGUF V3 (latest))\n",
      "llama_model_loader: Dumping metadata keys/values. Note: KV overrides do not apply in this output.\n",
      "llama_model_loader: - kv   0:                       general.architecture str              = llama\n",
      "llama_model_loader: - kv   1:                               general.name str              = LLaMA v2\n",
      "llama_model_loader: - kv   2:                       llama.context_length u32              = 4096\n",
      "llama_model_loader: - kv   3:                     llama.embedding_length u32              = 4096\n",
      "llama_model_loader: - kv   4:                          llama.block_count u32              = 32\n",
      "llama_model_loader: - kv   5:                  llama.feed_forward_length u32              = 11008\n",
      "llama_model_loader: - kv   6:                 llama.rope.dimension_count u32              = 128\n",
      "llama_model_loader: - kv   7:                 llama.attention.head_count u32              = 32\n",
      "llama_model_loader: - kv   8:              llama.attention.head_count_kv u32              = 32\n",
      "llama_model_loader: - kv   9:     llama.attention.layer_norm_rms_epsilon f32              = 0.000010\n",
      "llama_model_loader: - kv  10:                       llama.rope.freq_base f32              = 10000.000000\n",
      "llama_model_loader: - kv  11:                          general.file_type u32              = 15\n",
      "llama_model_loader: - kv  12:                       tokenizer.ggml.model str              = llama\n",
      "llama_model_loader: - kv  13:                      tokenizer.ggml.tokens arr[str,41088]   = [\"<unk>\", \"<s>\", \"</s>\", \"<0x00>\", \"<...\n",
      "llama_model_loader: - kv  14:                      tokenizer.ggml.scores arr[f32,41088]   = [0.000000, 0.000000, 0.000000, 0.0000...\n",
      "llama_model_loader: - kv  15:                  tokenizer.ggml.token_type arr[i32,41088]   = [2, 3, 3, 6, 6, 6, 6, 6, 6, 6, 6, 6, ...\n",
      "llama_model_loader: - kv  16:                tokenizer.ggml.bos_token_id u32              = 1\n",
      "llama_model_loader: - kv  17:                tokenizer.ggml.eos_token_id u32              = 2\n",
      "llama_model_loader: - kv  18:            tokenizer.ggml.unknown_token_id u32              = 0\n",
      "llama_model_loader: - kv  19:            tokenizer.ggml.padding_token_id u32              = 41074\n",
      "llama_model_loader: - kv  20:               tokenizer.ggml.add_bos_token bool             = true\n",
      "llama_model_loader: - kv  21:               tokenizer.ggml.add_eos_token bool             = false\n",
      "llama_model_loader: - kv  22:               general.quantization_version u32              = 2\n",
      "llama_model_loader: - type  f32:   65 tensors\n",
      "llama_model_loader: - type q4_K:  193 tensors\n",
      "llama_model_loader: - type q6_K:   33 tensors\n",
      "llm_load_vocab: mismatch in special tokens definition ( 522/41088 vs 277/41088 ).\n",
      "llm_load_print_meta: format           = GGUF V3 (latest)\n",
      "llm_load_print_meta: arch             = llama\n",
      "llm_load_print_meta: vocab type       = SPM\n",
      "llm_load_print_meta: n_vocab          = 41088\n",
      "llm_load_print_meta: n_merges         = 0\n",
      "llm_load_print_meta: n_ctx_train      = 4096\n",
      "llm_load_print_meta: n_embd           = 4096\n",
      "llm_load_print_meta: n_head           = 32\n",
      "llm_load_print_meta: n_head_kv        = 32\n",
      "llm_load_print_meta: n_layer          = 32\n",
      "llm_load_print_meta: n_rot            = 128\n",
      "llm_load_print_meta: n_embd_head_k    = 128\n",
      "llm_load_print_meta: n_embd_head_v    = 128\n",
      "llm_load_print_meta: n_gqa            = 1\n",
      "llm_load_print_meta: n_embd_k_gqa     = 4096\n",
      "llm_load_print_meta: n_embd_v_gqa     = 4096\n",
      "llm_load_print_meta: f_norm_eps       = 0.0e+00\n",
      "llm_load_print_meta: f_norm_rms_eps   = 1.0e-05\n",
      "llm_load_print_meta: f_clamp_kqv      = 0.0e+00\n",
      "llm_load_print_meta: f_max_alibi_bias = 0.0e+00\n",
      "llm_load_print_meta: f_logit_scale    = 0.0e+00\n",
      "llm_load_print_meta: n_ff             = 11008\n",
      "llm_load_print_meta: n_expert         = 0\n",
      "llm_load_print_meta: n_expert_used    = 0\n",
      "llm_load_print_meta: causal attn      = 1\n",
      "llm_load_print_meta: pooling type     = 0\n",
      "llm_load_print_meta: rope type        = 0\n",
      "llm_load_print_meta: rope scaling     = linear\n",
      "llm_load_print_meta: freq_base_train  = 10000.0\n",
      "llm_load_print_meta: freq_scale_train = 1\n",
      "llm_load_print_meta: n_yarn_orig_ctx  = 4096\n",
      "llm_load_print_meta: rope_finetuned   = unknown\n",
      "llm_load_print_meta: ssm_d_conv       = 0\n",
      "llm_load_print_meta: ssm_d_inner      = 0\n",
      "llm_load_print_meta: ssm_d_state      = 0\n",
      "llm_load_print_meta: ssm_dt_rank      = 0\n",
      "llm_load_print_meta: model type       = 8B\n",
      "llm_load_print_meta: model ftype      = Q4_K - Medium\n",
      "llm_load_print_meta: model params     = 6.81 B\n",
      "llm_load_print_meta: model size       = 3.85 GiB (4.85 BPW) \n",
      "llm_load_print_meta: general.name     = LLaMA v2\n",
      "llm_load_print_meta: BOS token        = 1 '<s>'\n",
      "llm_load_print_meta: EOS token        = 2 '</s>'\n",
      "llm_load_print_meta: UNK token        = 0 '<unk>'\n",
      "llm_load_print_meta: PAD token        = 41074 '<PAD>'\n",
      "llm_load_print_meta: LF token         = 13 '<0x0A>'\n",
      "llm_load_tensors: ggml ctx size =    0.15 MiB\n",
      "llm_load_tensors:        CPU buffer size =  3940.33 MiB\n",
      ".................................................................................................\n",
      "llama_new_context_with_model: n_ctx      = 1024\n",
      "llama_new_context_with_model: n_batch    = 512\n",
      "llama_new_context_with_model: n_ubatch   = 512\n",
      "llama_new_context_with_model: flash_attn = 0\n",
      "llama_new_context_with_model: freq_base  = 10000.0\n",
      "llama_new_context_with_model: freq_scale = 1\n",
      "llama_kv_cache_init:        CPU KV buffer size =   512.00 MiB\n",
      "llama_new_context_with_model: KV self size  =  512.00 MiB, K (f16):  256.00 MiB, V (f16):  256.00 MiB\n",
      "llama_new_context_with_model:        CPU  output buffer size =     0.16 MiB\n",
      "llama_new_context_with_model:        CPU compute buffer size =    98.01 MiB\n",
      "llama_new_context_with_model: graph nodes  = 1030\n",
      "llama_new_context_with_model: graph splits = 1\n",
      "AVX = 1 | AVX_VNNI = 0 | AVX2 = 1 | AVX512 = 1 | AVX512_VBMI = 0 | AVX512_VNNI = 1 | FMA = 1 | NEON = 0 | ARM_FMA = 0 | F16C = 1 | FP16_VA = 0 | WASM_SIMD = 0 | BLAS = 0 | SSE3 = 1 | SSSE3 = 1 | VSX = 0 | MATMUL_INT8 = 0 | LLAMAFILE = 1 | \n",
      "Model metadata: {'tokenizer.ggml.add_eos_token': 'false', 'tokenizer.ggml.padding_token_id': '41074', 'tokenizer.ggml.unknown_token_id': '0', 'tokenizer.ggml.eos_token_id': '2', 'general.architecture': 'llama', 'llama.rope.freq_base': '10000.000000', 'llama.context_length': '4096', 'general.name': 'LLaMA v2', 'tokenizer.ggml.add_bos_token': 'true', 'llama.embedding_length': '4096', 'llama.feed_forward_length': '11008', 'llama.attention.layer_norm_rms_epsilon': '0.000010', 'llama.rope.dimension_count': '128', 'tokenizer.ggml.bos_token_id': '1', 'llama.attention.head_count': '32', 'llama.block_count': '32', 'llama.attention.head_count_kv': '32', 'general.quantization_version': '2', 'tokenizer.ggml.model': 'llama', 'general.file_type': '15'}\n",
      "Using fallback chat format: llama-2\n"
     ]
    }
   ],
   "source": [
    "# model_url = \"../models/openthaigpt-Q4_K_M.gguf\"\n",
    "# llm = LlamaCPP(\n",
    "#     # You can pass in the URL to a GGML model to download it automatically\n",
    "#     # model_url=model_url,\n",
    "#     model_path=model_url,\n",
    "#     # model_path=None,\n",
    "#     temperature=0.1,\n",
    "#     max_new_tokens=256,\n",
    "#     # llama2 has a context window of 4096 tokens, but we set it lower to allow for some wiggle room\n",
    "#     context_window=1000,\n",
    "#     # kwargs to pass to __call__()\n",
    "#     generate_kwargs={},\n",
    "#     # kwargs to pass to __init__()\n",
    "#     # set to at least 1 to use GPU\n",
    "#     model_kwargs={\"n_gpu_layers\": 0},\n",
    "#     # transform inputs into Llama2 format\n",
    "#     messages_to_prompt=messages_to_prompt,\n",
    "#     completion_to_prompt=completion_to_prompt,\n",
    "#     verbose=True,\n",
    "# )"
   ]
  },
  {
   "cell_type": "code",
   "execution_count": 3,
   "metadata": {},
   "outputs": [
    {
     "name": "stdout",
     "output_type": "stream",
     "text": [
      "LLM is explicitly disabled. Using MockLLM.\n"
     ]
    }
   ],
   "source": [
    "from llama_index.core import Settings\n",
    "# Settings.llm = llm\n",
    "Settings.llm = None\n",
    "Settings.embed_model = embed_model"
   ]
  },
  {
   "cell_type": "code",
   "execution_count": 4,
   "metadata": {},
   "outputs": [],
   "source": [
    "from llama_index.core import (\n",
    "\n",
    "    load_index_from_storage,\n",
    "    StorageContext,\n",
    ")\n",
    "\n",
    "from IPython.display import Markdown, display\n",
    "from llama_index.vector_stores.faiss import FaissVectorStore\n"
   ]
  },
  {
   "cell_type": "code",
   "execution_count": 5,
   "metadata": {},
   "outputs": [],
   "source": [
    "persist_dir=\"../index\"\n",
    "vector_store = FaissVectorStore.from_persist_dir(persist_dir)\n",
    "storage_context = StorageContext.from_defaults(vector_store=vector_store, persist_dir=persist_dir)\n",
    "index = load_index_from_storage(storage_context=storage_context)"
   ]
  },
  {
   "cell_type": "code",
   "execution_count": 6,
   "metadata": {},
   "outputs": [],
   "source": [
    "query_enging = index.as_query_engine()\n"
   ]
  },
  {
   "cell_type": "code",
   "execution_count": 7,
   "metadata": {},
   "outputs": [],
   "source": [
    "question = 'แนะนำที่เที่ยวจังหวัดอยุธยาให้หน่อย'\n",
    "response_ = query_enging.query(question)"
   ]
  },
  {
   "cell_type": "code",
   "execution_count": 8,
   "metadata": {},
   "outputs": [
    {
     "name": "stdout",
     "output_type": "stream",
     "text": [
      "Context information is below.\n",
      "---------------------\n",
      "==\n",
      "\n",
      "ศูนย์ท่องเที่ยวอยุธยา (ATC)\n",
      "ศูนย์ศึกษาประวัติศาสตร์อยุธยา\n",
      "พิพิธภัณฑสถานแห่งชาติ เจ้าสามพระยา\n",
      "อุทยานประวัติศาสตร์พระนครศรีอยุธยา\n",
      "วัดพระศรีสรรเพชญ์\n",
      "พระราชวังโบราณ อยุธยา\n",
      "พระที่นั่งวิหารสมเด็จ\n",
      "พระที่นั่งสรรเพชญปราสาท\n",
      "พระที่นั่งสุริยาสน์อมรินทร์\n",
      "\n",
      "เมื่อวันที่ 13 ธันวาคม พ.ศ. 2534 มีพื้นที่ครอบคลุมในบริเวณโบราณสถานเมืองอยุธยา\n",
      "\n",
      "\n",
      "== ภูมิศาสตร์ ==\n",
      "\n",
      "\n",
      "=== สภาพภูมิอากาศ ===\n",
      "\n",
      "\n",
      "== สัญลักษณ์ประจำจังหวัด ==\n",
      "คำขวัญประจำจังหวัด : ราชธานีเก่า อู่ข้าวอู่น้ำ เลิศล้ำกานท์กวี คนดีศรีอยุธยา เลอคุณค่ามรดกโลก\n",
      "ตราประจำจังหวัด :\n",
      "---------------------\n",
      "Given the context information and not prior knowledge, answer the query.\n",
      "Query: แนะนำที่เที่ยวจังหวัดอยุธยาให้หน่อย\n",
      "Answer: \n"
     ]
    }
   ],
   "source": [
    "print(response_.response)"
   ]
  },
  {
   "cell_type": "code",
   "execution_count": 9,
   "metadata": {},
   "outputs": [],
   "source": [
    "import json"
   ]
  },
  {
   "cell_type": "code",
   "execution_count": 10,
   "metadata": {},
   "outputs": [],
   "source": [
    "import requests\n",
    "def send_api2(prompt,\n",
    "             url ='http://127.0.0.1:8080/completion',\n",
    "             temp = 0.7,\n",
    "             n_predict= 512,\n",
    "            ):\n",
    "    payload = json.dumps({\n",
    "    \"prompt\": f'''<s>[INST] <<SYS>>\n",
    "    You are a question answering assistant. Answer the question as truthful and helpful as possible\n",
    "    คุณคือผู้ช่วยตอบคำถาม จงตอบคำถามอย่างถูกต้องและมีประโยชน์ที่สุด\n",
    "    <</SYS>>\n",
    "\n",
    "    Answer the question based only on the following context:\n",
    "    {prompt}\n",
    "\n",
    "    [/INST]''',\n",
    "    \"n_predict\": n_predict,\n",
    "    'temperature': temp,\n",
    "    \"stop\": [\"</s>\"]\n",
    "    })\n",
    "\n",
    "    headers = {\n",
    "    'Content-Type': 'application/json'\n",
    "    }\n",
    "    response = requests.request(\"POST\", url, headers=headers, data=payload)\n",
    "#     print(response)\n",
    "    return response.json()"
   ]
  },
  {
   "cell_type": "code",
   "execution_count": 11,
   "metadata": {},
   "outputs": [],
   "source": [
    "def generate_answer(question):\n",
    "    response_ = query_enging.query(question)\n",
    "    # print(response_.response)\n",
    "    res_ = send_api2(prompt=response_.response)\n",
    "    return res_"
   ]
  },
  {
   "cell_type": "code",
   "execution_count": 12,
   "metadata": {},
   "outputs": [
    {
     "data": {
      "text/plain": [
       "{'content': 'จังหวัดพระนครศรีอยุธยามีทั้งหมด 16 อำเภอ ได้แก่ อำเภอพระนครศรีอยุธยา อำเภอท่าเรือ อำเภอนครหลวง อำเภอบางปะหัน อำเภอบางไทร อำเภอบ้านแพรก อำเภอบ้านช้าง อำเภอกะเหรี่ยงเฆี่ยน อำเภอบางระจัน อำเภออุทัย อำเภอมโนรมย์ อำเภอนครสวรรค์ อำเภอท่าพระ และอำเภอบางปะอิน',\n",
       " 'id_slot': 0,\n",
       " 'stop': True,\n",
       " 'model': '/opt/data/NLP/llama-index/RAG-for-SuperAI/models/openthaigpt-Q4_K_M.gguf',\n",
       " 'tokens_predicted': 93,\n",
       " 'tokens_evaluated': 281,\n",
       " 'generation_settings': {'n_ctx': 512,\n",
       "  'n_predict': -1,\n",
       "  'model': '/opt/data/NLP/llama-index/RAG-for-SuperAI/models/openthaigpt-Q4_K_M.gguf',\n",
       "  'seed': 4294967295,\n",
       "  'temperature': 0.699999988079071,\n",
       "  'dynatemp_range': 0.0,\n",
       "  'dynatemp_exponent': 1.0,\n",
       "  'top_k': 40,\n",
       "  'top_p': 0.949999988079071,\n",
       "  'min_p': 0.05000000074505806,\n",
       "  'tfs_z': 1.0,\n",
       "  'typical_p': 1.0,\n",
       "  'repeat_last_n': 64,\n",
       "  'repeat_penalty': 1.0,\n",
       "  'presence_penalty': 0.0,\n",
       "  'frequency_penalty': 0.0,\n",
       "  'penalty_prompt_tokens': [],\n",
       "  'use_penalty_prompt_tokens': False,\n",
       "  'mirostat': 0,\n",
       "  'mirostat_tau': 5.0,\n",
       "  'mirostat_eta': 0.10000000149011612,\n",
       "  'penalize_nl': False,\n",
       "  'stop': ['</s>'],\n",
       "  'n_keep': 0,\n",
       "  'n_discard': 0,\n",
       "  'ignore_eos': False,\n",
       "  'stream': False,\n",
       "  'logit_bias': [],\n",
       "  'n_probs': 0,\n",
       "  'min_keep': 0,\n",
       "  'grammar': '',\n",
       "  'samplers': ['top_k',\n",
       "   'tfs_z',\n",
       "   'typical_p',\n",
       "   'top_p',\n",
       "   'min_p',\n",
       "   'temperature']},\n",
       " 'prompt': '<s>[INST] <<SYS>>\\n    You are a question answering assistant. Answer the question as truthful and helpful as possible\\n    คุณคือผู้ช่วยตอบคำถาม จงตอบคำถามอย่างถูกต้องและมีประโยชน์ที่สุด\\n    <</SYS>>\\n\\n    Answer the question based only on the following context:\\n    Context information is below.\\n---------------------\\n(ขึ้นกับอำเภอเสนา) และกิ่งอำเภอบ้านแพรก (ขึ้นกับอำเภอมหาราช) ได้รับการยกฐานะขึ้นเป็นอำเภอตามลำดับจนครบในปี พ.ศ. 2502\\n\\n\\n=== การแบ่งเขตการปกครองในปัจจุบัน ===\\n\\n\\n==== การปกครองส่วนภูมิภาค ====\\n\\nปัจจุบันจังหวัดพระนครศรีอยุธยาประกอบด้วย 16 อำเภอ  209 ตำบล ได้แก่\\n\\n\\n==== การปกครองส่วนท้องถิ่น\\n\\n30 แห่ง, และองค์การบริหารส่วนตำบล 121 แห่ง โดยเทศบาลสามารถจำแนกได้ตามอำเภอต่าง ๆ ดังนี้\\n\\n\\n=== รายชื่อเจ้าเมืองและผู้ว่าราชการจังหวัด ===\\n\\n\\n== เศรษฐกิจ ==\\n\\nจังหวัดพระนครศรีอยุธยาถือเป็นจังหวัดที่มีการเติบโตทางเศรษฐกิจอย่างต่อเนื่อง\\n---------------------\\nGiven the context information and not prior knowledge, answer the query.\\nQuery: อยุธยามีกี่อำเภอ\\nAnswer: \\n\\n    [/INST]',\n",
       " 'truncated': False,\n",
       " 'stopped_eos': True,\n",
       " 'stopped_word': False,\n",
       " 'stopped_limit': False,\n",
       " 'stopping_word': '',\n",
       " 'tokens_cached': 373,\n",
       " 'timings': {'prompt_n': 281,\n",
       "  'prompt_ms': 4096.282,\n",
       "  'prompt_per_token_ms': 14.577516014234876,\n",
       "  'prompt_per_second': 68.59879275889696,\n",
       "  'predicted_n': 93,\n",
       "  'predicted_ms': 9553.049,\n",
       "  'predicted_per_token_ms': 102.72095698924733,\n",
       "  'predicted_per_second': 9.735111795197533}}"
      ]
     },
     "execution_count": 12,
     "metadata": {},
     "output_type": "execute_result"
    }
   ],
   "source": [
    "generate_answer('อยุธยามีกี่อำเภอ')"
   ]
  },
  {
   "cell_type": "code",
   "execution_count": null,
   "metadata": {},
   "outputs": [],
   "source": []
  }
 ],
 "metadata": {
  "kernelspec": {
   "display_name": "Python 3",
   "language": "python",
   "name": "python3"
  },
  "language_info": {
   "codemirror_mode": {
    "name": "ipython",
    "version": 3
   },
   "file_extension": ".py",
   "mimetype": "text/x-python",
   "name": "python",
   "nbconvert_exporter": "python",
   "pygments_lexer": "ipython3",
   "version": "3.1.-1"
  }
 },
 "nbformat": 4,
 "nbformat_minor": 2
}
