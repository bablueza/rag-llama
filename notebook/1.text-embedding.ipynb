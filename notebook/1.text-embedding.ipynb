{
 "cells": [
  {
   "cell_type": "code",
   "execution_count": null,
   "metadata": {},
   "outputs": [],
   "source": [
    "# %pip install llama-index-embeddings-huggingface\n",
    "# %pip install llama-index-embeddings-instructor\n",
    "# %pip install llama-index"
   ]
  },
  {
   "cell_type": "code",
   "execution_count": 1,
   "metadata": {},
   "outputs": [
    {
     "name": "stderr",
     "output_type": "stream",
     "text": [
      "/opt/data/tools/miniconda3/envs/llm/lib/python3.11/site-packages/tqdm/auto.py:21: TqdmWarning: IProgress not found. Please update jupyter and ipywidgets. See https://ipywidgets.readthedocs.io/en/stable/user_install.html\n",
      "  from .autonotebook import tqdm as notebook_tqdm\n"
     ]
    }
   ],
   "source": [
    "from llama_index.embeddings.huggingface import HuggingFaceEmbedding"
   ]
  },
  {
   "cell_type": "code",
   "execution_count": 3,
   "metadata": {},
   "outputs": [],
   "source": [
    "embedding_model_name = '../models/bge-m3'\n",
    "# embedding_model_name = 'kornwtp/simcse-model-phayathaibert'\n",
    "embed_model = HuggingFaceEmbedding(model_name=embedding_model_name,max_length=1024, device='cpu')"
   ]
  },
  {
   "cell_type": "code",
   "execution_count": 4,
   "metadata": {},
   "outputs": [
    {
     "name": "stdout",
     "output_type": "stream",
     "text": [
      "1024\n"
     ]
    }
   ],
   "source": [
    "embeddings = embed_model.get_text_embedding(\"Hello World!\")\n",
    "print(len(embeddings))"
   ]
  },
  {
   "cell_type": "code",
   "execution_count": 5,
   "metadata": {},
   "outputs": [
    {
     "name": "stdout",
     "output_type": "stream",
     "text": [
      "[-0.04197604954242706, 0.02179068699479103, -0.03246307745575905, 0.010755100287497044, -0.0188236515969038]\n"
     ]
    }
   ],
   "source": [
    "print(embeddings[:5])"
   ]
  },
  {
   "cell_type": "code",
   "execution_count": 6,
   "metadata": {},
   "outputs": [],
   "source": [
    "text1 = 'พระนครศรีอยุธยา เป็นจังหวัดหนึ่งในภาคกลางและเป็นเขตเศรษฐกิจอุตสาหกรรมที่สำคัญ โดยมีผลิตภัณฑ์มวลรวมของจังหวัดมีมูลค่าสูงเป็นอันดับ 3 ของประเทศ[3] และมีประวัติศาสตร์ความเป็นมาที่ยาวนาน เคยมีชื่อเสียงเป็นแหล่งปลูกข้าวที่สำคัญ จังหวัดพระนครศรีอยุธยาเป็นจังหวัดเดียวในประเทศไทยที่ไม่มีอำเภอเมือง แต่มี อำเภอพระนครศรีอยุธยา เป็นศูนย์กลางการบริหารจัดการด้านต่าง ๆ ชาวบ้านโดยทั่วไปนิยมเรียกอีกชื่อว่า \"กรุงเก่า\" หรือ \"เมืองกรุงเก่า\" ห่างจากกรุงเทพมหานครประมาณ 75 กิโลเมตร'\n",
    "text2 = 'ประวัติศาสตร์ บทความหลัก: อาณาจักรอยุธยากรุงศรีอยุธยา (พ.ศ. 2209) วาดโดยบริษัทอินเดียตะวันออกของเนเธอร์แลนด์พระนครศรีอยุธยาเคยเป็นราชธานี (เมืองหลวง) ของอาณาจักรอยุธยา หรืออาณาจักรสยาม ตลอดระยะเวลา 417 ปี ตั้งแต่ พ.ศ. 1893 กระทั่งเสียกรุงแก่พม่า เมื่อ พ.ศ. 2310 ครั้นเมื่อพระเจ้าตากสินมหาราชทรงสถาปนาราชธานีแห่งใหม่ที่กรุงธนบุรี กรุงศรีอยุธยาก็ไม่ได้กลายเป็นเมืองร้าง ยังมีคนที่รักถิ่นฐานบ้านเดิมอาศัยอยู่และมีราษฎรที่หลบหนีไปอยู่ตามป่ากลับเข้ามาอาศัยอยู่รอบ ๆ เมือง รวมกันเข้าเป็นเมือง จนทางการยกเป็นเมืองจัตวาเรียกว่า \"เมืองกรุงเก่า\"'\n",
    "text3 = 'เมื่อ พ.ศ. 2325 ในรัชสมัยพระบาทสมเด็จพระพุทธยอดฟ้าจุฬาโลกมหาราช ทรงยกเมืองกรุงเก่าขึ้นเป็น หัวเมืองจัตวา เช่นเดียวกับในสมัยกรุงธนบุรี หลังจากนั้น พระบาทสมเด็จพระจุลจอมเกล้าเจ้าอยู่หัวโปรดให้จัดการปฏิรูปการปกครองทั้งส่วนกลางและส่วนภูมิภาค โดยการปกครองส่วนภูมิภาคนั้น โปรดให้จัดการปกครองแบบเทศาภิบาลขึ้น โดยให้รวมเมืองที่อยู่ใกล้เคียงกัน 3-4 เมือง ขึ้นเป็นมณฑล มีข้าหลวงเทศาภิบาลเป็นผู้ปกครอง โดยในปี พ.ศ. 2438 โปรดให้จัดตั้งมณฑลกรุงเก่าขึ้น ประกอบด้วยหัวเมืองต่าง ๆ คือ กรุงเก่าหรืออยุธยา อ่างทอง สระบุรี พระพุทธบาท ลพบุรี พรหมบุรี อินทร์บุรี และสิงห์บุรี'\n",
    "text4 = 'ต่อมาทรงพระกรุณาโปรดเกล้าฯ ให้รวมเมืองอินทร์บุรีและเมืองพรหมบุรีเข้ากับเมืองสิงห์บุรี รวมเมืองพระพุทธบาทเข้ากับเมืองสระบุรี ตั้งที่ว่าการมณฑลที่อยุธยา และในปี พ.ศ. 2469 เปลี่ยนชื่อจาก \"มณฑลกรุงเก่า\" เป็น \"มณฑลอยุธยา\" ซึ่งจากการจัดตั้งมณฑลอยุธยามีผลให้อยุธยามีความสำคัญทางการบริหารการปกครองมากขึ้น การสร้างสิ่งสาธารณูปโภคหลายอย่างมีผลต่อการพัฒนาเมืองอยุธยาในเวลาต่อมา จนเมื่อยกเลิกการปกครองระบบมณฑลเทศาภิบาล ภายหลังการเปลี่ยนแปลงการปกครอง พ.ศ. 2475 อยุธยาจึงเปลี่ยนฐานะเป็นจังหวัดพระนครศรีอยุธยาจนถึงปัจจุบัน'"
   ]
  },
  {
   "cell_type": "code",
   "execution_count": 7,
   "metadata": {},
   "outputs": [],
   "source": [
    "text1_emb = embed_model.get_text_embedding(text1)\n",
    "text2_emb = embed_model.get_text_embedding(text2)\n",
    "text3_emb = embed_model.get_text_embedding(text3)\n",
    "text4_emb = embed_model.get_text_embedding(text4)"
   ]
  },
  {
   "cell_type": "code",
   "execution_count": 8,
   "metadata": {},
   "outputs": [
    {
     "name": "stdout",
     "output_type": "stream",
     "text": [
      "[0.005539689213037491, 0.015187499113380909, -0.011643565259873867, -0.017286302521824837, -0.021985379979014397]\n",
      "[0.011683662422001362, 0.04119977355003357, -0.004172529559582472, -0.02726029045879841, -0.03603770211338997]\n",
      "[0.0310891792178154, 0.04272822290658951, -0.005001197103410959, 0.0019403381738811731, -0.01635829731822014]\n",
      "[0.021662471815943718, 0.04273650795221329, 0.019206946715712547, 0.007724767550826073, -0.007433463353663683]\n"
     ]
    }
   ],
   "source": [
    "print(text1_emb[:5])\n",
    "print(text2_emb[:5])\n",
    "print(text3_emb[:5])\n",
    "print(text4_emb[:5])"
   ]
  },
  {
   "cell_type": "code",
   "execution_count": 9,
   "metadata": {},
   "outputs": [],
   "source": [
    "all_text_emb = embed_model.get_text_embedding(text1+text2+text3+text4)"
   ]
  },
  {
   "cell_type": "code",
   "execution_count": 10,
   "metadata": {},
   "outputs": [
    {
     "name": "stdout",
     "output_type": "stream",
     "text": [
      "[0.01653972640633583, 0.039379991590976715, -0.01071264035999775, -0.021296896040439606, -0.025445453822612762]\n"
     ]
    }
   ],
   "source": [
    "print(all_text_emb[:5])\n"
   ]
  },
  {
   "cell_type": "markdown",
   "metadata": {},
   "source": [
    "The TokenTextSplitter attempts to split to a consistent chunk size according to raw token counts."
   ]
  },
  {
   "cell_type": "code",
   "execution_count": 11,
   "metadata": {},
   "outputs": [],
   "source": [
    "from llama_index.core.node_parser import TokenTextSplitter\n",
    "splitter = TokenTextSplitter(\n",
    "    chunk_size=100,\n",
    "    chunk_overlap=50,\n",
    "    separator=\" \",\n",
    ")"
   ]
  },
  {
   "cell_type": "code",
   "execution_count": 12,
   "metadata": {},
   "outputs": [],
   "source": [
    "from llama_index.core import Document"
   ]
  },
  {
   "cell_type": "code",
   "execution_count": 13,
   "metadata": {},
   "outputs": [
    {
     "name": "stderr",
     "output_type": "stream",
     "text": [
      "Parsing nodes: 100%|██████████| 1/1 [00:00<00:00, 61.64it/s]\n"
     ]
    }
   ],
   "source": [
    "nodes = splitter.get_nodes_from_documents(\n",
    "    [Document(text=text1+text2+text3+text4)], show_progress=True\n",
    ")"
   ]
  },
  {
   "cell_type": "code",
   "execution_count": 14,
   "metadata": {},
   "outputs": [
    {
     "data": {
      "text/plain": [
       "[TextNode(id_='71f095fa-a057-40dd-983b-6f9e470cb444', embedding=None, metadata={}, excluded_embed_metadata_keys=[], excluded_llm_metadata_keys=[], relationships={<NodeRelationship.SOURCE: '1'>: RelatedNodeInfo(node_id='51d81482-b22b-4bfb-b510-60e764d9d98e', node_type=<ObjectType.DOCUMENT: '4'>, metadata={}, hash='28f6adc6de03f540df96fa0fec027a796747235831202c9981e5b9523629f427'), <NodeRelationship.NEXT: '3'>: RelatedNodeInfo(node_id='09e9d45d-9d6f-43a0-a99e-d4c85aec0b90', node_type=<ObjectType.TEXT: '1'>, metadata={}, hash='5096d5b3f7acf21602391c6a2e5890dd1d818b1e9a7ad3056e9f621b15deb29b')}, text='พระนครศรีอยุธยา เป็นจังหวัดหนึ่งในภาคกลางและเป็นเขตเศรษฐกิจอุตสาหกรรมที่สำคัญ', start_char_idx=0, end_char_idx=77, text_template='{metadata_str}\\n\\n{content}', metadata_template='{key}: {value}', metadata_seperator='\\n'),\n",
       " TextNode(id_='09e9d45d-9d6f-43a0-a99e-d4c85aec0b90', embedding=None, metadata={}, excluded_embed_metadata_keys=[], excluded_llm_metadata_keys=[], relationships={<NodeRelationship.SOURCE: '1'>: RelatedNodeInfo(node_id='51d81482-b22b-4bfb-b510-60e764d9d98e', node_type=<ObjectType.DOCUMENT: '4'>, metadata={}, hash='28f6adc6de03f540df96fa0fec027a796747235831202c9981e5b9523629f427'), <NodeRelationship.PREVIOUS: '2'>: RelatedNodeInfo(node_id='71f095fa-a057-40dd-983b-6f9e470cb444', node_type=<ObjectType.TEXT: '1'>, metadata={}, hash='9514f0aafc7568c0c7f3ad93b211c5e665de840867a97457cba1ea1887fae18a'), <NodeRelationship.NEXT: '3'>: RelatedNodeInfo(node_id='ad5071f9-8ff1-4682-bbe5-3e2a0a5c269a', node_type=<ObjectType.TEXT: '1'>, metadata={}, hash='6c0bd6f14d849e3163d205f9327cb2ef622aa55d5c8332788f9292d2ee5c1387')}, text='โดยมีผลิตภัณฑ์มวลรวมของจังหวัดมีมูลค่าสูงเป็นอันดับ 3 ของประเทศ[3]', start_char_idx=78, end_char_idx=144, text_template='{metadata_str}\\n\\n{content}', metadata_template='{key}: {value}', metadata_seperator='\\n'),\n",
       " TextNode(id_='ad5071f9-8ff1-4682-bbe5-3e2a0a5c269a', embedding=None, metadata={}, excluded_embed_metadata_keys=[], excluded_llm_metadata_keys=[], relationships={<NodeRelationship.SOURCE: '1'>: RelatedNodeInfo(node_id='51d81482-b22b-4bfb-b510-60e764d9d98e', node_type=<ObjectType.DOCUMENT: '4'>, metadata={}, hash='28f6adc6de03f540df96fa0fec027a796747235831202c9981e5b9523629f427'), <NodeRelationship.PREVIOUS: '2'>: RelatedNodeInfo(node_id='09e9d45d-9d6f-43a0-a99e-d4c85aec0b90', node_type=<ObjectType.TEXT: '1'>, metadata={}, hash='5096d5b3f7acf21602391c6a2e5890dd1d818b1e9a7ad3056e9f621b15deb29b'), <NodeRelationship.NEXT: '3'>: RelatedNodeInfo(node_id='acef63b3-0368-4d09-8fed-874a7cae6097', node_type=<ObjectType.TEXT: '1'>, metadata={}, hash='7b4c98aebc0c7a8c2b71094bbbde62cbba5d88a6c0bbff5341e362d49a7d140b')}, text='3 ของประเทศ[3] และมีประวัติศาสตร์ความเป็นมาที่ยาวนาน เคยมีชื่อเสียงเป็นแหล่งปลูกข้าวที่สำคัญ', start_char_idx=130, end_char_idx=222, text_template='{metadata_str}\\n\\n{content}', metadata_template='{key}: {value}', metadata_seperator='\\n'),\n",
       " TextNode(id_='acef63b3-0368-4d09-8fed-874a7cae6097', embedding=None, metadata={}, excluded_embed_metadata_keys=[], excluded_llm_metadata_keys=[], relationships={<NodeRelationship.SOURCE: '1'>: RelatedNodeInfo(node_id='51d81482-b22b-4bfb-b510-60e764d9d98e', node_type=<ObjectType.DOCUMENT: '4'>, metadata={}, hash='28f6adc6de03f540df96fa0fec027a796747235831202c9981e5b9523629f427'), <NodeRelationship.PREVIOUS: '2'>: RelatedNodeInfo(node_id='ad5071f9-8ff1-4682-bbe5-3e2a0a5c269a', node_type=<ObjectType.TEXT: '1'>, metadata={}, hash='6c0bd6f14d849e3163d205f9327cb2ef622aa55d5c8332788f9292d2ee5c1387'), <NodeRelationship.NEXT: '3'>: RelatedNodeInfo(node_id='e5afa0ea-a063-4007-beee-e8d3f757069f', node_type=<ObjectType.TEXT: '1'>, metadata={}, hash='c4c8db7d4e522bba5dc221949b507d57b1f6c8f23a33c6e8bdc6ed49a56cf7ca')}, text='จังหวัดพระนครศรีอยุธยาเป็นจังหวัดเดียวในประเทศไทยที่ไม่มีอำเภอเมือง แต่มี อำเภอพระนครศรีอยุธยา', start_char_idx=223, end_char_idx=317, text_template='{metadata_str}\\n\\n{content}', metadata_template='{key}: {value}', metadata_seperator='\\n'),\n",
       " TextNode(id_='e5afa0ea-a063-4007-beee-e8d3f757069f', embedding=None, metadata={}, excluded_embed_metadata_keys=[], excluded_llm_metadata_keys=[], relationships={<NodeRelationship.SOURCE: '1'>: RelatedNodeInfo(node_id='51d81482-b22b-4bfb-b510-60e764d9d98e', node_type=<ObjectType.DOCUMENT: '4'>, metadata={}, hash='28f6adc6de03f540df96fa0fec027a796747235831202c9981e5b9523629f427'), <NodeRelationship.PREVIOUS: '2'>: RelatedNodeInfo(node_id='acef63b3-0368-4d09-8fed-874a7cae6097', node_type=<ObjectType.TEXT: '1'>, metadata={}, hash='7b4c98aebc0c7a8c2b71094bbbde62cbba5d88a6c0bbff5341e362d49a7d140b'), <NodeRelationship.NEXT: '3'>: RelatedNodeInfo(node_id='5e219a49-9352-468f-b590-9978ea23d4cb', node_type=<ObjectType.TEXT: '1'>, metadata={}, hash='03c066455b15d68db2a6d64d6c3cc2ec087d5c44b607929b92daaa22d7f5750d')}, text='แต่มี อำเภอพระนครศรีอยุธยา เป็นศูนย์กลางการบริหารจัดการด้านต่าง ๆ ชาวบ้านโดยทั่วไปนิยมเรียกอีกชื่อว่า', start_char_idx=291, end_char_idx=392, text_template='{metadata_str}\\n\\n{content}', metadata_template='{key}: {value}', metadata_seperator='\\n'),\n",
       " TextNode(id_='5e219a49-9352-468f-b590-9978ea23d4cb', embedding=None, metadata={}, excluded_embed_metadata_keys=[], excluded_llm_metadata_keys=[], relationships={<NodeRelationship.SOURCE: '1'>: RelatedNodeInfo(node_id='51d81482-b22b-4bfb-b510-60e764d9d98e', node_type=<ObjectType.DOCUMENT: '4'>, metadata={}, hash='28f6adc6de03f540df96fa0fec027a796747235831202c9981e5b9523629f427'), <NodeRelationship.PREVIOUS: '2'>: RelatedNodeInfo(node_id='e5afa0ea-a063-4007-beee-e8d3f757069f', node_type=<ObjectType.TEXT: '1'>, metadata={}, hash='c4c8db7d4e522bba5dc221949b507d57b1f6c8f23a33c6e8bdc6ed49a56cf7ca'), <NodeRelationship.NEXT: '3'>: RelatedNodeInfo(node_id='eed37d31-1098-43e4-bd62-302e86bd3b65', node_type=<ObjectType.TEXT: '1'>, metadata={}, hash='23d345beaf4529e979b4b4305daa72b7a896403feaec78e8ea15415377bd2477')}, text='ๆ ชาวบ้านโดยทั่วไปนิยมเรียกอีกชื่อว่า \"กรุงเก่า\" หรือ \"เมืองกรุงเก่า\" ห่างจากกรุงเทพมหานครประมาณ 75', start_char_idx=355, end_char_idx=454, text_template='{metadata_str}\\n\\n{content}', metadata_template='{key}: {value}', metadata_seperator='\\n'),\n",
       " TextNode(id_='eed37d31-1098-43e4-bd62-302e86bd3b65', embedding=None, metadata={}, excluded_embed_metadata_keys=[], excluded_llm_metadata_keys=[], relationships={<NodeRelationship.SOURCE: '1'>: RelatedNodeInfo(node_id='51d81482-b22b-4bfb-b510-60e764d9d98e', node_type=<ObjectType.DOCUMENT: '4'>, metadata={}, hash='28f6adc6de03f540df96fa0fec027a796747235831202c9981e5b9523629f427'), <NodeRelationship.PREVIOUS: '2'>: RelatedNodeInfo(node_id='5e219a49-9352-468f-b590-9978ea23d4cb', node_type=<ObjectType.TEXT: '1'>, metadata={}, hash='03c066455b15d68db2a6d64d6c3cc2ec087d5c44b607929b92daaa22d7f5750d'), <NodeRelationship.NEXT: '3'>: RelatedNodeInfo(node_id='e0e70044-80ce-4fd8-bc9c-fd14e3547d61', node_type=<ObjectType.TEXT: '1'>, metadata={}, hash='d72784249ff091c5388aa353c9f98e94ee6677fda07143053d42154d04a819ed')}, text='หรือ \"เมืองกรุงเก่า\" ห่างจากกรุงเทพมหานครประมาณ 75 กิโลเมตรประวัติศาสตร์ บทความหลัก:', start_char_idx=404, end_char_idx=488, text_template='{metadata_str}\\n\\n{content}', metadata_template='{key}: {value}', metadata_seperator='\\n'),\n",
       " TextNode(id_='e0e70044-80ce-4fd8-bc9c-fd14e3547d61', embedding=None, metadata={}, excluded_embed_metadata_keys=[], excluded_llm_metadata_keys=[], relationships={<NodeRelationship.SOURCE: '1'>: RelatedNodeInfo(node_id='51d81482-b22b-4bfb-b510-60e764d9d98e', node_type=<ObjectType.DOCUMENT: '4'>, metadata={}, hash='28f6adc6de03f540df96fa0fec027a796747235831202c9981e5b9523629f427'), <NodeRelationship.PREVIOUS: '2'>: RelatedNodeInfo(node_id='eed37d31-1098-43e4-bd62-302e86bd3b65', node_type=<ObjectType.TEXT: '1'>, metadata={}, hash='23d345beaf4529e979b4b4305daa72b7a896403feaec78e8ea15415377bd2477'), <NodeRelationship.NEXT: '3'>: RelatedNodeInfo(node_id='e736775d-b72e-4dc8-ab57-c4c259d577ab', node_type=<ObjectType.TEXT: '1'>, metadata={}, hash='8d94543dcb48130dfbce129056a897be9505941c144233e19747ae08d97152cf')}, text='75 กิโลเมตรประวัติศาสตร์ บทความหลัก: อาณาจักรอยุธยากรุงศรีอยุธยา (พ.ศ. 2209)', start_char_idx=452, end_char_idx=528, text_template='{metadata_str}\\n\\n{content}', metadata_template='{key}: {value}', metadata_seperator='\\n'),\n",
       " TextNode(id_='e736775d-b72e-4dc8-ab57-c4c259d577ab', embedding=None, metadata={}, excluded_embed_metadata_keys=[], excluded_llm_metadata_keys=[], relationships={<NodeRelationship.SOURCE: '1'>: RelatedNodeInfo(node_id='51d81482-b22b-4bfb-b510-60e764d9d98e', node_type=<ObjectType.DOCUMENT: '4'>, metadata={}, hash='28f6adc6de03f540df96fa0fec027a796747235831202c9981e5b9523629f427'), <NodeRelationship.PREVIOUS: '2'>: RelatedNodeInfo(node_id='e0e70044-80ce-4fd8-bc9c-fd14e3547d61', node_type=<ObjectType.TEXT: '1'>, metadata={}, hash='d72784249ff091c5388aa353c9f98e94ee6677fda07143053d42154d04a819ed'), <NodeRelationship.NEXT: '3'>: RelatedNodeInfo(node_id='52f8d182-51a1-4e6a-9d7c-d797cd7b32ed', node_type=<ObjectType.TEXT: '1'>, metadata={}, hash='0f54f100278cdf33907eacb2fc197d6d46ee93993a590f217f5e6c5bfd161aec')}, text='(พ.ศ. 2209) วาดโดยบริษัทอินเดียตะวันออกของเนเธอร์แลนด์พระนครศรีอยุธยาเคยเป็นราชธานี (เมืองหลวง)', start_char_idx=517, end_char_idx=612, text_template='{metadata_str}\\n\\n{content}', metadata_template='{key}: {value}', metadata_seperator='\\n'),\n",
       " TextNode(id_='52f8d182-51a1-4e6a-9d7c-d797cd7b32ed', embedding=None, metadata={}, excluded_embed_metadata_keys=[], excluded_llm_metadata_keys=[], relationships={<NodeRelationship.SOURCE: '1'>: RelatedNodeInfo(node_id='51d81482-b22b-4bfb-b510-60e764d9d98e', node_type=<ObjectType.DOCUMENT: '4'>, metadata={}, hash='28f6adc6de03f540df96fa0fec027a796747235831202c9981e5b9523629f427'), <NodeRelationship.PREVIOUS: '2'>: RelatedNodeInfo(node_id='e736775d-b72e-4dc8-ab57-c4c259d577ab', node_type=<ObjectType.TEXT: '1'>, metadata={}, hash='8d94543dcb48130dfbce129056a897be9505941c144233e19747ae08d97152cf'), <NodeRelationship.NEXT: '3'>: RelatedNodeInfo(node_id='07220f6f-8464-40c6-9f6f-c502df1bb08a', node_type=<ObjectType.TEXT: '1'>, metadata={}, hash='4e2aa75929fd5e4089ef011b7d72e787a4445afbb555d6d325c2b5643ad0823c')}, text='(เมืองหลวง) ของอาณาจักรอยุธยา หรืออาณาจักรสยาม ตลอดระยะเวลา 417 ปี ตั้งแต่ พ.ศ. 1893 กระทั่งเสียกรุงแก่พม่า', start_char_idx=601, end_char_idx=708, text_template='{metadata_str}\\n\\n{content}', metadata_template='{key}: {value}', metadata_seperator='\\n'),\n",
       " TextNode(id_='07220f6f-8464-40c6-9f6f-c502df1bb08a', embedding=None, metadata={}, excluded_embed_metadata_keys=[], excluded_llm_metadata_keys=[], relationships={<NodeRelationship.SOURCE: '1'>: RelatedNodeInfo(node_id='51d81482-b22b-4bfb-b510-60e764d9d98e', node_type=<ObjectType.DOCUMENT: '4'>, metadata={}, hash='28f6adc6de03f540df96fa0fec027a796747235831202c9981e5b9523629f427'), <NodeRelationship.PREVIOUS: '2'>: RelatedNodeInfo(node_id='52f8d182-51a1-4e6a-9d7c-d797cd7b32ed', node_type=<ObjectType.TEXT: '1'>, metadata={}, hash='0f54f100278cdf33907eacb2fc197d6d46ee93993a590f217f5e6c5bfd161aec'), <NodeRelationship.NEXT: '3'>: RelatedNodeInfo(node_id='3d557d8a-b9ee-4ccd-9a2b-3037074a8783', node_type=<ObjectType.TEXT: '1'>, metadata={}, hash='9ccd42fd56f88f0738d45f52085eb86201f51da1766157148dd1bac2ec0acb5e')}, text='417 ปี ตั้งแต่ พ.ศ. 1893 กระทั่งเสียกรุงแก่พม่า เมื่อ พ.ศ. 2310', start_char_idx=661, end_char_idx=724, text_template='{metadata_str}\\n\\n{content}', metadata_template='{key}: {value}', metadata_seperator='\\n'),\n",
       " TextNode(id_='3d557d8a-b9ee-4ccd-9a2b-3037074a8783', embedding=None, metadata={}, excluded_embed_metadata_keys=[], excluded_llm_metadata_keys=[], relationships={<NodeRelationship.SOURCE: '1'>: RelatedNodeInfo(node_id='51d81482-b22b-4bfb-b510-60e764d9d98e', node_type=<ObjectType.DOCUMENT: '4'>, metadata={}, hash='28f6adc6de03f540df96fa0fec027a796747235831202c9981e5b9523629f427'), <NodeRelationship.PREVIOUS: '2'>: RelatedNodeInfo(node_id='07220f6f-8464-40c6-9f6f-c502df1bb08a', node_type=<ObjectType.TEXT: '1'>, metadata={}, hash='4e2aa75929fd5e4089ef011b7d72e787a4445afbb555d6d325c2b5643ad0823c'), <NodeRelationship.NEXT: '3'>: RelatedNodeInfo(node_id='78132318-1b5d-4cf0-9fdd-48310ec120a9', node_type=<ObjectType.TEXT: '1'>, metadata={}, hash='b539d2d2f1c52d19b3ba45efc9c2b662ced3292cc1a5f0f82363a469fa706e7b')}, text='1893 กระทั่งเสียกรุงแก่พม่า เมื่อ พ.ศ. 2310 ครั้นเมื่อพระเจ้าตากสินมหาราชทรงสถาปนาราชธานีแห่งใหม่ที่กรุงธนบุรี', start_char_idx=681, end_char_idx=791, text_template='{metadata_str}\\n\\n{content}', metadata_template='{key}: {value}', metadata_seperator='\\n'),\n",
       " TextNode(id_='78132318-1b5d-4cf0-9fdd-48310ec120a9', embedding=None, metadata={}, excluded_embed_metadata_keys=[], excluded_llm_metadata_keys=[], relationships={<NodeRelationship.SOURCE: '1'>: RelatedNodeInfo(node_id='51d81482-b22b-4bfb-b510-60e764d9d98e', node_type=<ObjectType.DOCUMENT: '4'>, metadata={}, hash='28f6adc6de03f540df96fa0fec027a796747235831202c9981e5b9523629f427'), <NodeRelationship.PREVIOUS: '2'>: RelatedNodeInfo(node_id='3d557d8a-b9ee-4ccd-9a2b-3037074a8783', node_type=<ObjectType.TEXT: '1'>, metadata={}, hash='9ccd42fd56f88f0738d45f52085eb86201f51da1766157148dd1bac2ec0acb5e'), <NodeRelationship.NEXT: '3'>: RelatedNodeInfo(node_id='3bad8526-d975-4277-9ddc-b16c339dd739', node_type=<ObjectType.TEXT: '1'>, metadata={}, hash='432144c55671ce855d4c3007ebc6314088e147b8b4d861cfeca55f12e3659b4c')}, text='กรุงศรีอยุธยาก็ไม่ได้กลายเป็นเมืองร้าง', start_char_idx=792, end_char_idx=830, text_template='{metadata_str}\\n\\n{content}', metadata_template='{key}: {value}', metadata_seperator='\\n'),\n",
       " TextNode(id_='3bad8526-d975-4277-9ddc-b16c339dd739', embedding=None, metadata={}, excluded_embed_metadata_keys=[], excluded_llm_metadata_keys=[], relationships={<NodeRelationship.SOURCE: '1'>: RelatedNodeInfo(node_id='51d81482-b22b-4bfb-b510-60e764d9d98e', node_type=<ObjectType.DOCUMENT: '4'>, metadata={}, hash='28f6adc6de03f540df96fa0fec027a796747235831202c9981e5b9523629f427'), <NodeRelationship.PREVIOUS: '2'>: RelatedNodeInfo(node_id='78132318-1b5d-4cf0-9fdd-48310ec120a9', node_type=<ObjectType.TEXT: '1'>, metadata={}, hash='b539d2d2f1c52d19b3ba45efc9c2b662ced3292cc1a5f0f82363a469fa706e7b'), <NodeRelationship.NEXT: '3'>: RelatedNodeInfo(node_id='11862447-b571-4ad2-a1ec-e6e664d34b3c', node_type=<ObjectType.TEXT: '1'>, metadata={}, hash='fab5192e5fb34d45e46e072b26a66da85dd197a0a8dde75166aa113c7c241549')}, text='ยังมีคนที่รักถิ่นฐานบ้านเดิมอาศัยอยู่และมีราษฎรที่หลบหนีไปอยู่ตามป่ากลับเข้ามาอาศัยอยู่รอบ ๆ เมือง', start_char_idx=831, end_char_idx=929, text_template='{metadata_str}\\n\\n{content}', metadata_template='{key}: {value}', metadata_seperator='\\n'),\n",
       " TextNode(id_='11862447-b571-4ad2-a1ec-e6e664d34b3c', embedding=None, metadata={}, excluded_embed_metadata_keys=[], excluded_llm_metadata_keys=[], relationships={<NodeRelationship.SOURCE: '1'>: RelatedNodeInfo(node_id='51d81482-b22b-4bfb-b510-60e764d9d98e', node_type=<ObjectType.DOCUMENT: '4'>, metadata={}, hash='28f6adc6de03f540df96fa0fec027a796747235831202c9981e5b9523629f427'), <NodeRelationship.PREVIOUS: '2'>: RelatedNodeInfo(node_id='3bad8526-d975-4277-9ddc-b16c339dd739', node_type=<ObjectType.TEXT: '1'>, metadata={}, hash='432144c55671ce855d4c3007ebc6314088e147b8b4d861cfeca55f12e3659b4c'), <NodeRelationship.NEXT: '3'>: RelatedNodeInfo(node_id='a72df5a4-5dfa-4c4e-b5f3-93c91595be01', node_type=<ObjectType.TEXT: '1'>, metadata={}, hash='ef92e2d2f19ababa2358a22ce4c291e1a33b991e6cb44f02450ff6d939103eb7')}, text='ๆ เมือง รวมกันเข้าเป็นเมือง จนทางการยกเป็นเมืองจัตวาเรียกว่า \"เมืองกรุงเก่า\"เมื่อ พ.ศ. 2325', start_char_idx=922, end_char_idx=1013, text_template='{metadata_str}\\n\\n{content}', metadata_template='{key}: {value}', metadata_seperator='\\n'),\n",
       " TextNode(id_='a72df5a4-5dfa-4c4e-b5f3-93c91595be01', embedding=None, metadata={}, excluded_embed_metadata_keys=[], excluded_llm_metadata_keys=[], relationships={<NodeRelationship.SOURCE: '1'>: RelatedNodeInfo(node_id='51d81482-b22b-4bfb-b510-60e764d9d98e', node_type=<ObjectType.DOCUMENT: '4'>, metadata={}, hash='28f6adc6de03f540df96fa0fec027a796747235831202c9981e5b9523629f427'), <NodeRelationship.PREVIOUS: '2'>: RelatedNodeInfo(node_id='11862447-b571-4ad2-a1ec-e6e664d34b3c', node_type=<ObjectType.TEXT: '1'>, metadata={}, hash='fab5192e5fb34d45e46e072b26a66da85dd197a0a8dde75166aa113c7c241549'), <NodeRelationship.NEXT: '3'>: RelatedNodeInfo(node_id='7d72588a-f8fd-42ad-b33f-d91b6e5eb227', node_type=<ObjectType.TEXT: '1'>, metadata={}, hash='036ee80ee57d9c825ebfcb6a201fbcf463c2f22af26b32b4297224dd9e90940d')}, text='\"เมืองกรุงเก่า\"เมื่อ พ.ศ. 2325 ในรัชสมัยพระบาทสมเด็จพระพุทธยอดฟ้าจุฬาโลกมหาราช', start_char_idx=983, end_char_idx=1061, text_template='{metadata_str}\\n\\n{content}', metadata_template='{key}: {value}', metadata_seperator='\\n'),\n",
       " TextNode(id_='7d72588a-f8fd-42ad-b33f-d91b6e5eb227', embedding=None, metadata={}, excluded_embed_metadata_keys=[], excluded_llm_metadata_keys=[], relationships={<NodeRelationship.SOURCE: '1'>: RelatedNodeInfo(node_id='51d81482-b22b-4bfb-b510-60e764d9d98e', node_type=<ObjectType.DOCUMENT: '4'>, metadata={}, hash='28f6adc6de03f540df96fa0fec027a796747235831202c9981e5b9523629f427'), <NodeRelationship.PREVIOUS: '2'>: RelatedNodeInfo(node_id='a72df5a4-5dfa-4c4e-b5f3-93c91595be01', node_type=<ObjectType.TEXT: '1'>, metadata={}, hash='ef92e2d2f19ababa2358a22ce4c291e1a33b991e6cb44f02450ff6d939103eb7'), <NodeRelationship.NEXT: '3'>: RelatedNodeInfo(node_id='e2bcdfaf-234f-4336-9693-e464b7363db3', node_type=<ObjectType.TEXT: '1'>, metadata={}, hash='14b4f655356fec0a4ecb0ae2390c1f6d5d42e2b625d58890d21ae67b9060bfea')}, text='ในรัชสมัยพระบาทสมเด็จพระพุทธยอดฟ้าจุฬาโลกมหาราช ทรงยกเมืองกรุงเก่าขึ้นเป็น หัวเมืองจัตวา', start_char_idx=1014, end_char_idx=1102, text_template='{metadata_str}\\n\\n{content}', metadata_template='{key}: {value}', metadata_seperator='\\n'),\n",
       " TextNode(id_='e2bcdfaf-234f-4336-9693-e464b7363db3', embedding=None, metadata={}, excluded_embed_metadata_keys=[], excluded_llm_metadata_keys=[], relationships={<NodeRelationship.SOURCE: '1'>: RelatedNodeInfo(node_id='51d81482-b22b-4bfb-b510-60e764d9d98e', node_type=<ObjectType.DOCUMENT: '4'>, metadata={}, hash='28f6adc6de03f540df96fa0fec027a796747235831202c9981e5b9523629f427'), <NodeRelationship.PREVIOUS: '2'>: RelatedNodeInfo(node_id='7d72588a-f8fd-42ad-b33f-d91b6e5eb227', node_type=<ObjectType.TEXT: '1'>, metadata={}, hash='036ee80ee57d9c825ebfcb6a201fbcf463c2f22af26b32b4297224dd9e90940d'), <NodeRelationship.NEXT: '3'>: RelatedNodeInfo(node_id='631fd7c3-9e60-4128-a4b9-4911643cc740', node_type=<ObjectType.TEXT: '1'>, metadata={}, hash='5c695968583674b39a56ed28095f374a79f8c97b81466b8a825fca85dfe1a5ec')}, text='ทรงยกเมืองกรุงเก่าขึ้นเป็น หัวเมืองจัตวา เช่นเดียวกับในสมัยกรุงธนบุรี หลังจากนั้น', start_char_idx=1062, end_char_idx=1143, text_template='{metadata_str}\\n\\n{content}', metadata_template='{key}: {value}', metadata_seperator='\\n'),\n",
       " TextNode(id_='631fd7c3-9e60-4128-a4b9-4911643cc740', embedding=None, metadata={}, excluded_embed_metadata_keys=[], excluded_llm_metadata_keys=[], relationships={<NodeRelationship.SOURCE: '1'>: RelatedNodeInfo(node_id='51d81482-b22b-4bfb-b510-60e764d9d98e', node_type=<ObjectType.DOCUMENT: '4'>, metadata={}, hash='28f6adc6de03f540df96fa0fec027a796747235831202c9981e5b9523629f427'), <NodeRelationship.PREVIOUS: '2'>: RelatedNodeInfo(node_id='e2bcdfaf-234f-4336-9693-e464b7363db3', node_type=<ObjectType.TEXT: '1'>, metadata={}, hash='14b4f655356fec0a4ecb0ae2390c1f6d5d42e2b625d58890d21ae67b9060bfea'), <NodeRelationship.NEXT: '3'>: RelatedNodeInfo(node_id='1cdc5028-9458-4b26-8bbd-f3aba5dba5dd', node_type=<ObjectType.TEXT: '1'>, metadata={}, hash='5e4e0709b031491d983e9d277eb9ed3ba00bd4c8c7618992d55947337c0162c2')}, text='พระบาทสมเด็จพระจุลจอมเกล้าเจ้าอยู่หัวโปรดให้จัดการปฏิรูปการปกครองทั้งส่วนกลางและส่วนภูมิภาค', start_char_idx=1144, end_char_idx=1235, text_template='{metadata_str}\\n\\n{content}', metadata_template='{key}: {value}', metadata_seperator='\\n'),\n",
       " TextNode(id_='1cdc5028-9458-4b26-8bbd-f3aba5dba5dd', embedding=None, metadata={}, excluded_embed_metadata_keys=[], excluded_llm_metadata_keys=[], relationships={<NodeRelationship.SOURCE: '1'>: RelatedNodeInfo(node_id='51d81482-b22b-4bfb-b510-60e764d9d98e', node_type=<ObjectType.DOCUMENT: '4'>, metadata={}, hash='28f6adc6de03f540df96fa0fec027a796747235831202c9981e5b9523629f427'), <NodeRelationship.PREVIOUS: '2'>: RelatedNodeInfo(node_id='631fd7c3-9e60-4128-a4b9-4911643cc740', node_type=<ObjectType.TEXT: '1'>, metadata={}, hash='5c695968583674b39a56ed28095f374a79f8c97b81466b8a825fca85dfe1a5ec'), <NodeRelationship.NEXT: '3'>: RelatedNodeInfo(node_id='ca96c8ca-0408-4bc8-90cc-c0a7ccd02b52', node_type=<ObjectType.TEXT: '1'>, metadata={}, hash='426a79a20d5d3f89d0c6dfbea64abcc306075cc01f82a29b399f8882edb4e875')}, text='โดยการปกครองส่วนภูมิภาคนั้น โปรดให้จัดการปกครองแบบเทศาภิบาลขึ้น โดยให้รวมเมืองที่อยู่ใกล้เคียงกัน', start_char_idx=1236, end_char_idx=1333, text_template='{metadata_str}\\n\\n{content}', metadata_template='{key}: {value}', metadata_seperator='\\n'),\n",
       " TextNode(id_='ca96c8ca-0408-4bc8-90cc-c0a7ccd02b52', embedding=None, metadata={}, excluded_embed_metadata_keys=[], excluded_llm_metadata_keys=[], relationships={<NodeRelationship.SOURCE: '1'>: RelatedNodeInfo(node_id='51d81482-b22b-4bfb-b510-60e764d9d98e', node_type=<ObjectType.DOCUMENT: '4'>, metadata={}, hash='28f6adc6de03f540df96fa0fec027a796747235831202c9981e5b9523629f427'), <NodeRelationship.PREVIOUS: '2'>: RelatedNodeInfo(node_id='1cdc5028-9458-4b26-8bbd-f3aba5dba5dd', node_type=<ObjectType.TEXT: '1'>, metadata={}, hash='5e4e0709b031491d983e9d277eb9ed3ba00bd4c8c7618992d55947337c0162c2'), <NodeRelationship.NEXT: '3'>: RelatedNodeInfo(node_id='96a33b09-bdc4-4640-84b2-44ce0b52ef53', node_type=<ObjectType.TEXT: '1'>, metadata={}, hash='dfd3cad74b170d71bd86f5884722c8e413ed3b572fec8dcad58194905bc6f9ae')}, text='โดยให้รวมเมืองที่อยู่ใกล้เคียงกัน 3-4 เมือง ขึ้นเป็นมณฑล มีข้าหลวงเทศาภิบาลเป็นผู้ปกครอง โดยในปี', start_char_idx=1300, end_char_idx=1396, text_template='{metadata_str}\\n\\n{content}', metadata_template='{key}: {value}', metadata_seperator='\\n'),\n",
       " TextNode(id_='96a33b09-bdc4-4640-84b2-44ce0b52ef53', embedding=None, metadata={}, excluded_embed_metadata_keys=[], excluded_llm_metadata_keys=[], relationships={<NodeRelationship.SOURCE: '1'>: RelatedNodeInfo(node_id='51d81482-b22b-4bfb-b510-60e764d9d98e', node_type=<ObjectType.DOCUMENT: '4'>, metadata={}, hash='28f6adc6de03f540df96fa0fec027a796747235831202c9981e5b9523629f427'), <NodeRelationship.PREVIOUS: '2'>: RelatedNodeInfo(node_id='ca96c8ca-0408-4bc8-90cc-c0a7ccd02b52', node_type=<ObjectType.TEXT: '1'>, metadata={}, hash='426a79a20d5d3f89d0c6dfbea64abcc306075cc01f82a29b399f8882edb4e875'), <NodeRelationship.NEXT: '3'>: RelatedNodeInfo(node_id='6439b229-ab55-4d06-b28b-af7fdcd431a7', node_type=<ObjectType.TEXT: '1'>, metadata={}, hash='d9a32e0118b40c4de21c6569931fe888388499656a397a43f7425f4e8e47d62b')}, text='มีข้าหลวงเทศาภิบาลเป็นผู้ปกครอง โดยในปี พ.ศ. 2438 โปรดให้จัดตั้งมณฑลกรุงเก่าขึ้น', start_char_idx=1357, end_char_idx=1437, text_template='{metadata_str}\\n\\n{content}', metadata_template='{key}: {value}', metadata_seperator='\\n'),\n",
       " TextNode(id_='6439b229-ab55-4d06-b28b-af7fdcd431a7', embedding=None, metadata={}, excluded_embed_metadata_keys=[], excluded_llm_metadata_keys=[], relationships={<NodeRelationship.SOURCE: '1'>: RelatedNodeInfo(node_id='51d81482-b22b-4bfb-b510-60e764d9d98e', node_type=<ObjectType.DOCUMENT: '4'>, metadata={}, hash='28f6adc6de03f540df96fa0fec027a796747235831202c9981e5b9523629f427'), <NodeRelationship.PREVIOUS: '2'>: RelatedNodeInfo(node_id='96a33b09-bdc4-4640-84b2-44ce0b52ef53', node_type=<ObjectType.TEXT: '1'>, metadata={}, hash='dfd3cad74b170d71bd86f5884722c8e413ed3b572fec8dcad58194905bc6f9ae'), <NodeRelationship.NEXT: '3'>: RelatedNodeInfo(node_id='7a23fe8b-2e66-4845-8fba-4dc07f4a660b', node_type=<ObjectType.TEXT: '1'>, metadata={}, hash='05834db4a21d02f4a4d07188333976b372e30f4e0dc3362eebdbd86e8eaadc03')}, text='โดยในปี พ.ศ. 2438 โปรดให้จัดตั้งมณฑลกรุงเก่าขึ้น ประกอบด้วยหัวเมืองต่าง ๆ คือ กรุงเก่าหรืออยุธยา', start_char_idx=1389, end_char_idx=1485, text_template='{metadata_str}\\n\\n{content}', metadata_template='{key}: {value}', metadata_seperator='\\n'),\n",
       " TextNode(id_='7a23fe8b-2e66-4845-8fba-4dc07f4a660b', embedding=None, metadata={}, excluded_embed_metadata_keys=[], excluded_llm_metadata_keys=[], relationships={<NodeRelationship.SOURCE: '1'>: RelatedNodeInfo(node_id='51d81482-b22b-4bfb-b510-60e764d9d98e', node_type=<ObjectType.DOCUMENT: '4'>, metadata={}, hash='28f6adc6de03f540df96fa0fec027a796747235831202c9981e5b9523629f427'), <NodeRelationship.PREVIOUS: '2'>: RelatedNodeInfo(node_id='6439b229-ab55-4d06-b28b-af7fdcd431a7', node_type=<ObjectType.TEXT: '1'>, metadata={}, hash='d9a32e0118b40c4de21c6569931fe888388499656a397a43f7425f4e8e47d62b'), <NodeRelationship.NEXT: '3'>: RelatedNodeInfo(node_id='d022b8d8-8697-4139-8364-4760f408cdf9', node_type=<ObjectType.TEXT: '1'>, metadata={}, hash='60178502b1ebe6d23ad74c6cc0238045110082927266e083d8abf41ce3e5677a')}, text='ประกอบด้วยหัวเมืองต่าง ๆ คือ กรุงเก่าหรืออยุธยา อ่างทอง สระบุรี พระพุทธบาท ลพบุรี พรหมบุรี อินทร์บุรี', start_char_idx=1438, end_char_idx=1539, text_template='{metadata_str}\\n\\n{content}', metadata_template='{key}: {value}', metadata_seperator='\\n'),\n",
       " TextNode(id_='d022b8d8-8697-4139-8364-4760f408cdf9', embedding=None, metadata={}, excluded_embed_metadata_keys=[], excluded_llm_metadata_keys=[], relationships={<NodeRelationship.SOURCE: '1'>: RelatedNodeInfo(node_id='51d81482-b22b-4bfb-b510-60e764d9d98e', node_type=<ObjectType.DOCUMENT: '4'>, metadata={}, hash='28f6adc6de03f540df96fa0fec027a796747235831202c9981e5b9523629f427'), <NodeRelationship.PREVIOUS: '2'>: RelatedNodeInfo(node_id='7a23fe8b-2e66-4845-8fba-4dc07f4a660b', node_type=<ObjectType.TEXT: '1'>, metadata={}, hash='05834db4a21d02f4a4d07188333976b372e30f4e0dc3362eebdbd86e8eaadc03'), <NodeRelationship.NEXT: '3'>: RelatedNodeInfo(node_id='01f2246c-841f-4eb8-9c95-1dfd5998bed0', node_type=<ObjectType.TEXT: '1'>, metadata={}, hash='88716160aa8366f6dc7b33f8240a19ce32fc821e637669c6c906bc6e4cc0a6b6')}, text='สระบุรี พระพุทธบาท ลพบุรี พรหมบุรี อินทร์บุรี และสิงห์บุรีต่อมาทรงพระกรุณาโปรดเกล้าฯ', start_char_idx=1494, end_char_idx=1578, text_template='{metadata_str}\\n\\n{content}', metadata_template='{key}: {value}', metadata_seperator='\\n'),\n",
       " TextNode(id_='01f2246c-841f-4eb8-9c95-1dfd5998bed0', embedding=None, metadata={}, excluded_embed_metadata_keys=[], excluded_llm_metadata_keys=[], relationships={<NodeRelationship.SOURCE: '1'>: RelatedNodeInfo(node_id='51d81482-b22b-4bfb-b510-60e764d9d98e', node_type=<ObjectType.DOCUMENT: '4'>, metadata={}, hash='28f6adc6de03f540df96fa0fec027a796747235831202c9981e5b9523629f427'), <NodeRelationship.PREVIOUS: '2'>: RelatedNodeInfo(node_id='d022b8d8-8697-4139-8364-4760f408cdf9', node_type=<ObjectType.TEXT: '1'>, metadata={}, hash='60178502b1ebe6d23ad74c6cc0238045110082927266e083d8abf41ce3e5677a'), <NodeRelationship.NEXT: '3'>: RelatedNodeInfo(node_id='5ef413f5-f717-4622-8ab4-8a388ed2fdf9', node_type=<ObjectType.TEXT: '1'>, metadata={}, hash='2ff7bd61e100b9440b04ff3a4ca9e853adbab64c3812fb5e36e33a9c17ea3879')}, text='และสิงห์บุรีต่อมาทรงพระกรุณาโปรดเกล้าฯ ให้รวมเมืองอินทร์บุรีและเมืองพรหมบุรีเข้ากับเมืองสิงห์บุรี', start_char_idx=1540, end_char_idx=1637, text_template='{metadata_str}\\n\\n{content}', metadata_template='{key}: {value}', metadata_seperator='\\n'),\n",
       " TextNode(id_='5ef413f5-f717-4622-8ab4-8a388ed2fdf9', embedding=None, metadata={}, excluded_embed_metadata_keys=[], excluded_llm_metadata_keys=[], relationships={<NodeRelationship.SOURCE: '1'>: RelatedNodeInfo(node_id='51d81482-b22b-4bfb-b510-60e764d9d98e', node_type=<ObjectType.DOCUMENT: '4'>, metadata={}, hash='28f6adc6de03f540df96fa0fec027a796747235831202c9981e5b9523629f427'), <NodeRelationship.PREVIOUS: '2'>: RelatedNodeInfo(node_id='01f2246c-841f-4eb8-9c95-1dfd5998bed0', node_type=<ObjectType.TEXT: '1'>, metadata={}, hash='88716160aa8366f6dc7b33f8240a19ce32fc821e637669c6c906bc6e4cc0a6b6'), <NodeRelationship.NEXT: '3'>: RelatedNodeInfo(node_id='63254ebf-86e0-4ca0-b69c-ff1de08efc36', node_type=<ObjectType.TEXT: '1'>, metadata={}, hash='dad7cc27bf124e6a4b7a672b012130a9b875e6a3c866270ab38f788e33690452')}, text='รวมเมืองพระพุทธบาทเข้ากับเมืองสระบุรี ตั้งที่ว่าการมณฑลที่อยุธยา และในปี พ.ศ. 2469 เปลี่ยนชื่อจาก', start_char_idx=1638, end_char_idx=1735, text_template='{metadata_str}\\n\\n{content}', metadata_template='{key}: {value}', metadata_seperator='\\n'),\n",
       " TextNode(id_='63254ebf-86e0-4ca0-b69c-ff1de08efc36', embedding=None, metadata={}, excluded_embed_metadata_keys=[], excluded_llm_metadata_keys=[], relationships={<NodeRelationship.SOURCE: '1'>: RelatedNodeInfo(node_id='51d81482-b22b-4bfb-b510-60e764d9d98e', node_type=<ObjectType.DOCUMENT: '4'>, metadata={}, hash='28f6adc6de03f540df96fa0fec027a796747235831202c9981e5b9523629f427'), <NodeRelationship.PREVIOUS: '2'>: RelatedNodeInfo(node_id='5ef413f5-f717-4622-8ab4-8a388ed2fdf9', node_type=<ObjectType.TEXT: '1'>, metadata={}, hash='2ff7bd61e100b9440b04ff3a4ca9e853adbab64c3812fb5e36e33a9c17ea3879'), <NodeRelationship.NEXT: '3'>: RelatedNodeInfo(node_id='48d11403-979e-4f83-afa2-6e29a85fd1e2', node_type=<ObjectType.TEXT: '1'>, metadata={}, hash='342f48b721cdb6fb9ff0870d761f3e190a05da8a55f2a2d09d49bb4c6e9ab219')}, text='และในปี พ.ศ. 2469 เปลี่ยนชื่อจาก \"มณฑลกรุงเก่า\" เป็น \"มณฑลอยุธยา\"', start_char_idx=1703, end_char_idx=1768, text_template='{metadata_str}\\n\\n{content}', metadata_template='{key}: {value}', metadata_seperator='\\n'),\n",
       " TextNode(id_='48d11403-979e-4f83-afa2-6e29a85fd1e2', embedding=None, metadata={}, excluded_embed_metadata_keys=[], excluded_llm_metadata_keys=[], relationships={<NodeRelationship.SOURCE: '1'>: RelatedNodeInfo(node_id='51d81482-b22b-4bfb-b510-60e764d9d98e', node_type=<ObjectType.DOCUMENT: '4'>, metadata={}, hash='28f6adc6de03f540df96fa0fec027a796747235831202c9981e5b9523629f427'), <NodeRelationship.PREVIOUS: '2'>: RelatedNodeInfo(node_id='63254ebf-86e0-4ca0-b69c-ff1de08efc36', node_type=<ObjectType.TEXT: '1'>, metadata={}, hash='dad7cc27bf124e6a4b7a672b012130a9b875e6a3c866270ab38f788e33690452'), <NodeRelationship.NEXT: '3'>: RelatedNodeInfo(node_id='367645bb-737b-4dfc-98e6-0422e1ab4a8b', node_type=<ObjectType.TEXT: '1'>, metadata={}, hash='fc7f6a72463e26b8757368deb0496a1a442a686e32298c82f2d782ac5d32186e')}, text='เป็น \"มณฑลอยุธยา\" ซึ่งจากการจัดตั้งมณฑลอยุธยามีผลให้อยุธยามีความสำคัญทางการบริหารการปกครองมากขึ้น', start_char_idx=1751, end_char_idx=1848, text_template='{metadata_str}\\n\\n{content}', metadata_template='{key}: {value}', metadata_seperator='\\n'),\n",
       " TextNode(id_='367645bb-737b-4dfc-98e6-0422e1ab4a8b', embedding=None, metadata={}, excluded_embed_metadata_keys=[], excluded_llm_metadata_keys=[], relationships={<NodeRelationship.SOURCE: '1'>: RelatedNodeInfo(node_id='51d81482-b22b-4bfb-b510-60e764d9d98e', node_type=<ObjectType.DOCUMENT: '4'>, metadata={}, hash='28f6adc6de03f540df96fa0fec027a796747235831202c9981e5b9523629f427'), <NodeRelationship.PREVIOUS: '2'>: RelatedNodeInfo(node_id='48d11403-979e-4f83-afa2-6e29a85fd1e2', node_type=<ObjectType.TEXT: '1'>, metadata={}, hash='342f48b721cdb6fb9ff0870d761f3e190a05da8a55f2a2d09d49bb4c6e9ab219'), <NodeRelationship.NEXT: '3'>: RelatedNodeInfo(node_id='83061748-4a19-4dd0-a926-d2af1ecd0a06', node_type=<ObjectType.TEXT: '1'>, metadata={}, hash='e6d393861a42fe1807cef6121f929a5801cdc9a305f88c1a183f096ed0c16221')}, text='การสร้างสิ่งสาธารณูปโภคหลายอย่างมีผลต่อการพัฒนาเมืองอยุธยาในเวลาต่อมา', start_char_idx=1849, end_char_idx=1918, text_template='{metadata_str}\\n\\n{content}', metadata_template='{key}: {value}', metadata_seperator='\\n'),\n",
       " TextNode(id_='83061748-4a19-4dd0-a926-d2af1ecd0a06', embedding=None, metadata={}, excluded_embed_metadata_keys=[], excluded_llm_metadata_keys=[], relationships={<NodeRelationship.SOURCE: '1'>: RelatedNodeInfo(node_id='51d81482-b22b-4bfb-b510-60e764d9d98e', node_type=<ObjectType.DOCUMENT: '4'>, metadata={}, hash='28f6adc6de03f540df96fa0fec027a796747235831202c9981e5b9523629f427'), <NodeRelationship.PREVIOUS: '2'>: RelatedNodeInfo(node_id='367645bb-737b-4dfc-98e6-0422e1ab4a8b', node_type=<ObjectType.TEXT: '1'>, metadata={}, hash='fc7f6a72463e26b8757368deb0496a1a442a686e32298c82f2d782ac5d32186e'), <NodeRelationship.NEXT: '3'>: RelatedNodeInfo(node_id='626c84c0-7e95-4843-8d67-4e9c323ef593', node_type=<ObjectType.TEXT: '1'>, metadata={}, hash='cde41db18b8cf2b764e31bc75ec5c9ad0ce12487599d4cf7f40f4a9433075bbd')}, text='จนเมื่อยกเลิกการปกครองระบบมณฑลเทศาภิบาล ภายหลังการเปลี่ยนแปลงการปกครอง พ.ศ. 2475', start_char_idx=1919, end_char_idx=1999, text_template='{metadata_str}\\n\\n{content}', metadata_template='{key}: {value}', metadata_seperator='\\n'),\n",
       " TextNode(id_='626c84c0-7e95-4843-8d67-4e9c323ef593', embedding=None, metadata={}, excluded_embed_metadata_keys=[], excluded_llm_metadata_keys=[], relationships={<NodeRelationship.SOURCE: '1'>: RelatedNodeInfo(node_id='51d81482-b22b-4bfb-b510-60e764d9d98e', node_type=<ObjectType.DOCUMENT: '4'>, metadata={}, hash='28f6adc6de03f540df96fa0fec027a796747235831202c9981e5b9523629f427'), <NodeRelationship.PREVIOUS: '2'>: RelatedNodeInfo(node_id='83061748-4a19-4dd0-a926-d2af1ecd0a06', node_type=<ObjectType.TEXT: '1'>, metadata={}, hash='e6d393861a42fe1807cef6121f929a5801cdc9a305f88c1a183f096ed0c16221')}, text='พ.ศ. 2475 อยุธยาจึงเปลี่ยนฐานะเป็นจังหวัดพระนครศรีอยุธยาจนถึงปัจจุบัน', start_char_idx=1990, end_char_idx=2059, text_template='{metadata_str}\\n\\n{content}', metadata_template='{key}: {value}', metadata_seperator='\\n')]"
      ]
     },
     "execution_count": 14,
     "metadata": {},
     "output_type": "execute_result"
    }
   ],
   "source": [
    "nodes"
   ]
  },
  {
   "cell_type": "code",
   "execution_count": null,
   "metadata": {},
   "outputs": [],
   "source": []
  }
 ],
 "metadata": {
  "kernelspec": {
   "display_name": "Python 3",
   "language": "python",
   "name": "python3"
  },
  "language_info": {
   "codemirror_mode": {
    "name": "ipython",
    "version": 3
   },
   "file_extension": ".py",
   "mimetype": "text/x-python",
   "name": "python",
   "nbconvert_exporter": "python",
   "pygments_lexer": "ipython3",
   "version": "3.1.-1"
  }
 },
 "nbformat": 4,
 "nbformat_minor": 2
}
